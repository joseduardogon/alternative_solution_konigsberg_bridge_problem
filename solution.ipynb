{
 "cells": [
  {
   "cell_type": "code",
   "execution_count": null,
   "metadata": {},
   "outputs": [],
   "source": [
    "!pip list"
   ]
  },
  {
   "cell_type": "code",
   "execution_count": 25,
   "metadata": {},
   "outputs": [],
   "source": [
    "from pyvis import network as net\n",
    "import networkx as nx\n"
   ]
  },
  {
   "cell_type": "code",
   "execution_count": null,
   "metadata": {},
   "outputs": [],
   "source": [
    "g=net.Network(notebook=True, cdn_resources='remote')\n",
    "nhg = nx.Graph()\n",
    "nhg.add_nodes_from([1, 2, 3, 4])\n",
    "nhg.add_edges_from([(1, 2), (1, 3), (1, 4), (2, 1), (2, 3), (2, 4), (3, 1), (3, 4)]) \n",
    "g.from_nx(nhg)\n",
    "g.show_buttons(filter_=['physics'])\n",
    "g.show(\"example.html\")"
   ]
  },
  {
   "cell_type": "code",
   "execution_count": 18,
   "metadata": {},
   "outputs": [],
   "source": [
    "config = 0\n",
    "\n",
    "g=net.Network(notebook=True, cdn_resources='remote')\n",
    "nhg = nx.Graph()\n",
    "\n",
    "g.from_nx(nhg)\n",
    "\n",
    "if config == 1:\n",
    "    g.show_buttons(filter_=['physics'])\n",
    "else:\n",
    "    g.set_options(\"\"\"\n",
    "        const options = {\n",
    "            \"physics\": {\n",
    "                \"barnesHut\": {\n",
    "                    \"centralGravity\": 0.001,\n",
    "                    \"avoidOverlap\": 0.1,\n",
    "                    \"springLength\": 150\n",
    "                },\n",
    "                \"minVelocity\": 0.75\n",
    "            }\n",
    "        }\n",
    "    \"\"\")"
   ]
  },
  {
   "cell_type": "code",
   "execution_count": null,
   "metadata": {},
   "outputs": [],
   "source": [
    "g.add_node(\"E\", label=\"-\", x=0,   y=0,     fixed=True, color=\"orange\")\n",
    "g.add_node(\"A\", label=\"A\", x=0,   y=0,     fixed=True, color=\"orange\")\n",
    "g.add_node(\"B\", label=\"B\", x=150, y= 100,  fixed=True, color=\"orange\")\n",
    "g.add_node(\"C\", label=\"C\", x=150, y= -100, fixed=True, color=\"orange\")\n",
    "g.add_node(\"D\", label=\"D\", x=300, y=0,     fixed=True, color=\"orange\")\n",
    "\n",
    "g.add_edge(\"A\", \"B\", smooth=False, color=\"Black\", label=\"E1\")  # A - B\n",
    "g.add_edge(\"A\", \"C\", smooth=False, color=\"Black\", label=\"E2\")  # A - C\n",
    "g.add_edge(\"A\", \"D\", smooth=False, color=\"Black\", label=\"E3\")  # A - D\n",
    "g.add_edge(\"B\", \"D\", smooth=False, color=\"Black\", label=\"E6\")  # B - D\n",
    "g.add_edge(\"C\", \"D\", smooth=False, color=\"Black\", label=\"E5\")  # C - D\n",
    "\n",
    "\n",
    "# Adicionando arestas duplicadas com curva para evitar interseção\n",
    "g.add_edge(\"E\", \"B\", smooth={\"type\": \"curvedCCW\"}, color=\"Black\", label=\"E7\")  # A - B curva no sentido horário\n",
    "g.add_edge(\"E\", \"C\", smooth={\"type\": \"curvedCW\"}, color=\"Black\", label=\"E4\")  # A - C curva no sentido horário\n",
    "\n",
    "\n",
    "g.show(\"example.html\")\n",
    "\n",
    "graph_koenigsberg = {\n",
    "    'A': ['B', 'B', 'C', 'C', 'D'],\n",
    "    'B': ['A', 'A', 'D'],\n",
    "    'C': ['A', 'A', 'D'],\n",
    "    'D': ['A', 'B', 'C']\n",
    "}\n",
    "\n",
    "edges_graph_koenigsberg = {\n",
    "    ('A', 'B'): 'E1',\n",
    "    ('A', 'C'): 'E2',\n",
    "    ('A', 'D'): 'E3',\n",
    "    ('C', 'A'): 'E4',\n",
    "    ('C', 'D'): 'E5',\n",
    "    ('B', 'D'): 'E6',\n",
    "    ('B', 'A'): 'E7'\n",
    "}"
   ]
  },
  {
   "cell_type": "code",
   "execution_count": 32,
   "metadata": {},
   "outputs": [
    {
     "name": "stdout",
     "output_type": "stream",
     "text": [
      "solution_1.html\n"
     ]
    },
    {
     "data": {
      "text/html": [
       "\n",
       "        <iframe\n",
       "            width=\"100%\"\n",
       "            height=\"600px\"\n",
       "            src=\"solution_1.html\"\n",
       "            frameborder=\"0\"\n",
       "            allowfullscreen\n",
       "            \n",
       "        ></iframe>\n",
       "        "
      ],
      "text/plain": [
       "<IPython.lib.display.IFrame at 0x206d4158a70>"
      ]
     },
     "execution_count": 32,
     "metadata": {},
     "output_type": "execute_result"
    }
   ],
   "source": [
    "g=net.Network(notebook=True, cdn_resources=\"remote\", directed=True)\n",
    "nhg = nx.Graph()\n",
    "\n",
    "g.from_nx(nhg)\n",
    "\n",
    "g.set_options(\"\"\"\n",
    "    const options = {\n",
    "            \"physics\": {\n",
    "                \"barnesHut\": {\n",
    "                    \"centralGravity\": 0.001,\n",
    "                    \"avoidOverlap\": 0.1,\n",
    "                    \"springLength\": 150\n",
    "                },\n",
    "                \"minVelocity\": 0.75\n",
    "            }\n",
    "        }\n",
    "    \"\"\")\n",
    "\n",
    "g.add_node(\"E\", label=\"-\", x=0,   y=0,     fixed=True, color=\"orange\")\n",
    "g.add_node(\"A\", label=\"A\", x=0,   y=0,     fixed=True, color=\"orange\")\n",
    "g.add_node(\"B\", label=\"B\", x=150, y= 100,  fixed=True, color=\"red\")\n",
    "g.add_node(\"C\", label=\"C\", x=150, y= -100, fixed=True, color=\"green\")\n",
    "g.add_node(\"D\", label=\"D\", x=300, y=0,     fixed=True, color=\"orange\")\n",
    "\n",
    "g.add_edge(\"A\", \"B\", smooth=False, color=\"Black\", label=\"E8\")  \n",
    "g.add_edge(\"C\", \"A\", smooth=False, color=\"Black\", label=\"E7\")  \n",
    "g.add_edge(\"D\", \"A\", smooth=False, color=\"Black\", label=\"E2\")  \n",
    "g.add_edge(\"D\", \"B\", smooth=False, color=\"Black\", label=\"E4\")  \n",
    "g.add_edge(\"C\", \"D\", smooth=False, color=\"Black\", label=\"E1\")  \n",
    "\n",
    "\n",
    "# Adicionando arestas duplicadas com curva para evitar interseção\n",
    "g.add_edge(\"B\", \"E\", smooth={\"type\": \"curvedCW\"}, color=\"Black\", label=\"E5\")\n",
    "g.add_edge(\"E\", \"C\", smooth={\"type\": \"curvedCW\"}, color=\"Black\", label=\"E6\")\n",
    "\n",
    "g.add_edge(\"E\", \"D\", smooth={\"type\": \"curvedCW\", \"roundness\": 0.2}, color=\"rgb(27,79,143)\", tickness=10, label=\"E3\") \n",
    "g.show(\"solution_1.html\")"
   ]
  },
  {
   "cell_type": "code",
   "execution_count": 34,
   "metadata": {},
   "outputs": [
    {
     "name": "stdout",
     "output_type": "stream",
     "text": [
      "solution_2.html\n"
     ]
    },
    {
     "data": {
      "text/html": [
       "\n",
       "        <iframe\n",
       "            width=\"100%\"\n",
       "            height=\"600px\"\n",
       "            src=\"solution_2.html\"\n",
       "            frameborder=\"0\"\n",
       "            allowfullscreen\n",
       "            \n",
       "        ></iframe>\n",
       "        "
      ],
      "text/plain": [
       "<IPython.lib.display.IFrame at 0x206d4157fb0>"
      ]
     },
     "execution_count": 34,
     "metadata": {},
     "output_type": "execute_result"
    }
   ],
   "source": [
    "g=net.Network(notebook=True, cdn_resources=\"remote\", directed=True)\n",
    "nhg = nx.Graph()\n",
    "\n",
    "g.from_nx(nhg)\n",
    "\n",
    "g.set_options(\"\"\"\n",
    "    const options = {\n",
    "            \"physics\": {\n",
    "                \"barnesHut\": {\n",
    "                    \"centralGravity\": 0.001,\n",
    "                    \"avoidOverlap\": 0.1,\n",
    "                    \"springLength\": 150\n",
    "                },\n",
    "                \"minVelocity\": 0.75\n",
    "            }\n",
    "        }\n",
    "    \"\"\")\n",
    "\n",
    "g.add_node(\"E\", label=\"-\", x=0,   y=0,     fixed=True, color=\"orange\")\n",
    "g.add_node(\"A\", label=\"A\", x=0,   y=0,     fixed=True, color=\"green\")\n",
    "g.add_node(\"B\", label=\"B\", x=150, y= 100,  fixed=True, color=\"orange\")\n",
    "g.add_node(\"C\", label=\"C\", x=150, y= -100, fixed=True, color=\"orange\")\n",
    "g.add_node(\"D\", label=\"D\", x=300, y=0,     fixed=True, color=\"red\")\n",
    "\n",
    "g.add_edge(\"A\", \"B\", smooth=False, color=\"Black\", label=\"E4\")  \n",
    "g.add_edge(\"C\", \"A\", smooth=False, color=\"Black\", label=\"E3\")  \n",
    "g.add_edge(\"A\", \"D\", smooth=False, color=\"Black\", label=\"E1\")  \n",
    "g.add_edge(\"B\", \"D\", smooth=False, color=\"Black\", label=\"E8\")  \n",
    "g.add_edge(\"D\", \"C\", smooth=False, color=\"Black\", label=\"E2\")  \n",
    "\n",
    "\n",
    "# Adicionando arestas duplicadas com curva para evitar interseção\n",
    "g.add_edge(\"B\", \"E\", smooth={\"type\": \"curvedCW\"}, color=\"Black\", label=\"E5\")\n",
    "g.add_edge(\"E\", \"C\", smooth={\"type\": \"curvedCW\"}, color=\"Black\", label=\"E6\")\n",
    "\n",
    "g.add_node(\"Y\", label=\".\", x=-50, y= 0, fixed=False, color=\"rgb(27,79,143)\", size=1)\n",
    "g.add_edge(\"Y\", \"B\", smooth={\"type\": \"curvedCCW\", \"roundness\": \"0.7\"}, color=\"rgb(27,79,143)\", tickness=10, label=\"E7\") \n",
    "g.add_edge(\"C\", \"Y\", smooth={\"type\": \"curvedCCW\", \"roundness\": \"0.7\"}, color=\"rgb(27,79,143)\", tickness=10) \n",
    "g.show(\"solution_2.html\")"
   ]
  },
  {
   "cell_type": "code",
   "execution_count": 35,
   "metadata": {},
   "outputs": [
    {
     "name": "stdout",
     "output_type": "stream",
     "text": [
      "solution_3.html\n"
     ]
    },
    {
     "data": {
      "text/html": [
       "\n",
       "        <iframe\n",
       "            width=\"100%\"\n",
       "            height=\"600px\"\n",
       "            src=\"solution_3.html\"\n",
       "            frameborder=\"0\"\n",
       "            allowfullscreen\n",
       "            \n",
       "        ></iframe>\n",
       "        "
      ],
      "text/plain": [
       "<IPython.lib.display.IFrame at 0x206d36b3920>"
      ]
     },
     "execution_count": 35,
     "metadata": {},
     "output_type": "execute_result"
    }
   ],
   "source": [
    "g=net.Network(notebook=True, cdn_resources=\"remote\", directed=True)\n",
    "nhg = nx.Graph()\n",
    "\n",
    "g.from_nx(nhg)\n",
    "\n",
    "g.set_options(\"\"\"\n",
    "    const options = {\n",
    "            \"physics\": {\n",
    "                \"barnesHut\": {\n",
    "                    \"centralGravity\": 0.001,\n",
    "                    \"avoidOverlap\": 0.1,\n",
    "                    \"springLength\": 150\n",
    "                },\n",
    "                \"minVelocity\": 0.75\n",
    "            }\n",
    "        }\n",
    "    \"\"\")\n",
    "\n",
    "g.add_node(\"E\", label=\"-\", x=0,   y=0,     fixed=True, color=\"orange\")\n",
    "g.add_node(\"A\", label=\"A\", x=0,   y=0,     fixed=True, color=\"green\")\n",
    "g.add_node(\"B\", label=\"B\", x=150, y= 100,  fixed=True, color=\"orange\")\n",
    "g.add_node(\"C\", label=\"C\", x=150, y= -100, fixed=True, color=\"red\")\n",
    "g.add_node(\"D\", label=\"D\", x=300, y=0,     fixed=True, color=\"orange\")\n",
    "\n",
    "g.add_edge(\"B\", \"A\", smooth=False, color=\"Black\", label=\"E3\")  \n",
    "g.add_edge(\"A\", \"C\", smooth=False, color=\"Black\", label=\"E4\")  \n",
    "g.add_edge(\"A\", \"D\", smooth=False, color=\"Black\", label=\"E1\")  \n",
    "g.add_edge(\"D\", \"B\", smooth=False, color=\"Black\", label=\"E2\")  \n",
    "g.add_edge(\"D\", \"C\", smooth=False, color=\"Black\", label=\"E8\")  \n",
    "\n",
    "\n",
    "# Adicionando arestas duplicadas com curva para evitar interseção\n",
    "g.add_edge(\"E\", \"B\", smooth={\"type\": \"curvedCCW\"}, color=\"Black\", label=\"E6\")\n",
    "g.add_edge(\"C\", \"E\", smooth={\"type\": \"curvedCCW\"}, color=\"Black\", label=\"E5\")\n",
    "\n",
    "g.add_node(\"Y\", label=\".\", x=300, y=0, fixed=True, color=\"orange\", size=1)\n",
    "g.add_edge(\"B\", \"Y\", smooth={\"type\": \"curvedCCW\"}, color=\"rgb(27,79,143)\", tickness=10, label=\"E7\")  \n",
    "g.show(\"solution_3.html\")"
   ]
  },
  {
   "cell_type": "code",
   "execution_count": 36,
   "metadata": {},
   "outputs": [
    {
     "name": "stdout",
     "output_type": "stream",
     "text": [
      "solution_4.html\n"
     ]
    },
    {
     "data": {
      "text/html": [
       "\n",
       "        <iframe\n",
       "            width=\"100%\"\n",
       "            height=\"600px\"\n",
       "            src=\"solution_4.html\"\n",
       "            frameborder=\"0\"\n",
       "            allowfullscreen\n",
       "            \n",
       "        ></iframe>\n",
       "        "
      ],
      "text/plain": [
       "<IPython.lib.display.IFrame at 0x206d3dabad0>"
      ]
     },
     "execution_count": 36,
     "metadata": {},
     "output_type": "execute_result"
    }
   ],
   "source": [
    "g=net.Network(notebook=True, cdn_resources=\"remote\", directed=True)\n",
    "nhg = nx.Graph()\n",
    "\n",
    "g.from_nx(nhg)\n",
    "\n",
    "g.set_options(\"\"\"\n",
    "    const options = {\n",
    "            \"physics\": {\n",
    "                \"barnesHut\": {\n",
    "                    \"centralGravity\": 0.001,\n",
    "                    \"avoidOverlap\": 0.1,\n",
    "                    \"springLength\": 150\n",
    "                },\n",
    "                \"minVelocity\": 0.75\n",
    "            }\n",
    "        }\n",
    "    \"\"\")\n",
    "\n",
    "g.add_node(\"E\", label=\"-\", x=0,   y=0,     fixed=True, color=\"orange\")\n",
    "g.add_node(\"A\", label=\"A\", x=0,   y=0,     fixed=True, color=\"green\")\n",
    "g.add_node(\"B\", label=\"B\", x=150, y= 100,  fixed=True, color=\"red\")\n",
    "g.add_node(\"C\", label=\"C\", x=150, y= -100, fixed=True, color=\"orange\")\n",
    "g.add_node(\"D\", label=\"D\", x=300, y=0,     fixed=True, color=\"orange\")\n",
    "\n",
    "g.add_edge(\"A\", \"B\", smooth=False, color=\"Black\", label=\"E4\")  \n",
    "g.add_edge(\"C\", \"A\", smooth=False, color=\"Black\", label=\"E3\")  \n",
    "g.add_edge(\"A\", \"D\", smooth=False, color=\"Black\", label=\"E1\")  \n",
    "g.add_edge(\"D\", \"B\", smooth=False, color=\"Black\", label=\"E8\")  \n",
    "g.add_edge(\"D\", \"C\", smooth=False, color=\"Black\", label=\"E2\")  \n",
    "\n",
    "\n",
    "# Adicionando arestas duplicadas com curva para evitar interseção\n",
    "g.add_edge(\"B\", \"E\", smooth={\"type\": \"curvedCW\"}, color=\"Black\", label=\"E5\")\n",
    "g.add_edge(\"E\", \"C\", smooth={\"type\": \"curvedCW\"}, color=\"Black\", label=\"E6\")\n",
    "\n",
    "g.add_node(\"Y\", label=\".\", x=300, y=0, fixed=True, color=\"orange\", size=1)\n",
    "g.add_edge(\"C\", \"Y\", smooth={\"type\": \"curvedCW\"}, color=\"rgb(27,79,143)\", tickness=10, label=\"E7\")  \n",
    "g.show(\"solution_4.html\")"
   ]
  },
  {
   "cell_type": "code",
   "execution_count": 37,
   "metadata": {},
   "outputs": [
    {
     "name": "stdout",
     "output_type": "stream",
     "text": [
      "solution_5.html\n"
     ]
    },
    {
     "data": {
      "text/html": [
       "\n",
       "        <iframe\n",
       "            width=\"100%\"\n",
       "            height=\"600px\"\n",
       "            src=\"solution_5.html\"\n",
       "            frameborder=\"0\"\n",
       "            allowfullscreen\n",
       "            \n",
       "        ></iframe>\n",
       "        "
      ],
      "text/plain": [
       "<IPython.lib.display.IFrame at 0x206d3ddec90>"
      ]
     },
     "execution_count": 37,
     "metadata": {},
     "output_type": "execute_result"
    }
   ],
   "source": [
    "g=net.Network(notebook=True, cdn_resources=\"remote\", directed=True)\n",
    "nhg = nx.Graph()\n",
    "\n",
    "g.from_nx(nhg)\n",
    "\n",
    "g.set_options(\"\"\"\n",
    "    const options = {\n",
    "            \"physics\": {\n",
    "                \"barnesHut\": {\n",
    "                    \"centralGravity\": 0.001,\n",
    "                    \"avoidOverlap\": 0.1,\n",
    "                    \"springLength\": 150\n",
    "                },\n",
    "                \"minVelocity\": 0.75\n",
    "            }\n",
    "        }\n",
    "    \"\"\")\n",
    "\n",
    "g.add_node(\"E\", label=\"-\", x=0,   y=0,     fixed=True, color=\"orange\")\n",
    "g.add_node(\"A\", label=\"A\", x=0,   y=0,     fixed=True, color=\"green\")\n",
    "g.add_node(\"B\", label=\"B\", x=150, y= 100,  fixed=True, color=\"orange\")\n",
    "g.add_node(\"C\", label=\"C\", x=150, y= -100, fixed=True, color=\"orange\")\n",
    "g.add_node(\"D\", label=\"D\", x=300, y=0,     fixed=True, color=\"red\")\n",
    "\n",
    "g.add_edge(\"A\", \"B\", smooth=False, color=\"Black\", label=\"E4\")  \n",
    "g.add_edge(\"C\", \"A\", smooth=False, color=\"Black\", label=\"E3\")  \n",
    "g.add_edge(\"A\", \"D\", smooth=False, color=\"Black\", label=\"E1\")  \n",
    "g.add_edge(\"D\", \"B\", smooth=False, color=\"Black\", label=\"E8\")  \n",
    "g.add_edge(\"D\", \"C\", smooth=False, color=\"Black\", label=\"E2\")  \n",
    "\n",
    "\n",
    "# Adicionando arestas duplicadas com curva para evitar interseção\n",
    "g.add_edge(\"B\", \"E\", smooth={\"type\": \"curvedCW\"}, color=\"Black\", label=\"E5\")\n",
    "g.add_edge(\"E\", \"C\", smooth={\"type\": \"curvedCW\"}, color=\"Black\", label=\"E6\")\n",
    "\n",
    "g.add_node(\"Y\", label=\".\", x=300, y=0, fixed=True, color=\"orange\", size=1)\n",
    "g.add_edge(\"C\", \"Y\", smooth={\"type\": \"curvedCW\"}, color=\"rgb(27,79,143)\", tickness=10, label=\"E7\")\n",
    "g.add_edge(\"B\", \"Y\", smooth={\"type\": \"curvedCCW\"}, color=\"rgb(27,79,143)\", tickness=10, label=\"E9\")\n",
    "g.show(\"solution_5.html\")"
   ]
  },
  {
   "cell_type": "code",
   "execution_count": 40,
   "metadata": {},
   "outputs": [
    {
     "name": "stdout",
     "output_type": "stream",
     "text": [
      "solution_cicle.html\n"
     ]
    },
    {
     "data": {
      "text/html": [
       "\n",
       "        <iframe\n",
       "            width=\"100%\"\n",
       "            height=\"600px\"\n",
       "            src=\"solution_cicle.html\"\n",
       "            frameborder=\"0\"\n",
       "            allowfullscreen\n",
       "            \n",
       "        ></iframe>\n",
       "        "
      ],
      "text/plain": [
       "<IPython.lib.display.IFrame at 0x206d41ac260>"
      ]
     },
     "execution_count": 40,
     "metadata": {},
     "output_type": "execute_result"
    }
   ],
   "source": [
    "g=net.Network(notebook=True, cdn_resources=\"remote\", directed=True)\n",
    "nhg = nx.Graph()\n",
    "\n",
    "g.from_nx(nhg)\n",
    "\n",
    "g.set_options(\"\"\"\n",
    "    const options = {\n",
    "            \"physics\": {\n",
    "                \"barnesHut\": {\n",
    "                    \"centralGravity\": 0.001,\n",
    "                    \"avoidOverlap\": 0.1,\n",
    "                    \"springLength\": 150\n",
    "                },\n",
    "                \"minVelocity\": 0.75\n",
    "            }\n",
    "        }\n",
    "    \"\"\")\n",
    "\n",
    "g.add_node(\"E\", label=\"-\", x=0,   y=0,     fixed=True, color=\"orange\")\n",
    "g.add_node(\"A\", label=\"A\", x=0,   y=0,     fixed=True, color=\"orange\")\n",
    "g.add_node(\"B\", label=\"B\", x=150, y= 100,  fixed=True, color=\"green\")\n",
    "g.add_node(\"C\", label=\"C\", x=150, y= -100, fixed=True, color=\"orange\")\n",
    "g.add_node(\"D\", label=\"D\", x=300, y=0,     fixed=True, color=\"orange\")\n",
    "\n",
    "g.add_edge(\"B\", \"A\", smooth=False, color=\"Black\", label=\"E4\")  \n",
    "g.add_edge(\"A\", \"C\", smooth=False, color=\"Black\", label=\"E5\")  \n",
    "g.add_edge(\"B\", \"C\", smooth=False, color=\"Black\", label=\"E1\")  \n",
    "g.add_edge(\"D\", \"B\", smooth=False, color=\"Black\", label=\"E3\")  \n",
    "g.add_edge(\"C\", \"D\", smooth=False, color=\"Black\", label=\"E2\")  \n",
    "\n",
    "\n",
    "# Adicionando arestas duplicadas com curva para evitar interseção\n",
    "g.add_edge(\"E\", \"B\", smooth={\"type\": \"curvedCCW\"}, color=\"Black\", label=\"E7\")\n",
    "g.add_edge(\"C\", \"E\", smooth={\"type\": \"curvedCCW\"}, color=\"Black\", label=\"E6\")\n",
    "\n",
    "g.show(\"solution_cicle.html\")"
   ]
  },
  {
   "cell_type": "code",
   "execution_count": null,
   "metadata": {},
   "outputs": [],
   "source": [
    "g=net.Network(notebook=True, cdn_resources=\"remote\", directed=True)\n",
    "nhg = nx.Graph()\n",
    "\n",
    "g.from_nx(nhg)\n",
    "\n",
    "g.set_options(\"\"\"\n",
    "    const options = {\n",
    "            \"physics\": {\n",
    "                \"barnesHut\": {\n",
    "                    \"centralGravity\": 0.001,\n",
    "                    \"avoidOverlap\": 0.1,\n",
    "                    \"springLength\": 150\n",
    "                },\n",
    "                \"minVelocity\": 0.75\n",
    "            }\n",
    "        }\n",
    "    \"\"\")\n",
    "\n",
    "g.add_node(\"E\", label=\"-\", x=0,   y=0,     fixed=True, color=\"orange\")\n",
    "g.add_node(\"A\", label=\"A\", x=0,   y=0,     fixed=True, color=\"green\")\n",
    "g.add_node(\"B\", label=\"B\", x=150, y= 100,  fixed=True, color=\"orange\")\n",
    "g.add_node(\"C\", label=\"C\", x=150, y= -100, fixed=True, color=\"orange\")\n",
    "g.add_node(\"D\", label=\"D\", x=300, y=0,     fixed=True, color=\"orange\")\n",
    "\n",
    "g.add_edge(\"A\", \"B\", smooth=False, color=\"Black\", label=\"E3\")  \n",
    "g.add_edge(\"C\", \"A\", smooth=False, color=\"Black\", label=\"E6\")  \n",
    "g.add_edge(\"A\", \"D\", smooth=False, color=\"Black\", label=\"E1\")  \n",
    "g.add_edge(\"B\", \"D\", smooth=False, color=\"Black\", label=\"E4\")  \n",
    "g.add_edge(\"D\", \"C\", smooth=False, color=\"Black\", label=\"E5\")  \n",
    "\n",
    "\n",
    "# Adicionando arestas duplicadas com curva para evitar interseção\n",
    "g.add_edge(\"B\", \"E\", smooth={\"type\": \"curvedCW\"}, color=\"Black\", label=\"E9\")\n",
    "g.add_edge(\"E\", \"C\", smooth={\"type\": \"curvedCW\"}, color=\"Black\", label=\"E7\")\n",
    "\n",
    "g.add_node(\"Y\", label=\".\", x=-50, y= 0, fixed=False, color=\"rgb(27,79,143)\", size=1)\n",
    "g.add_edge(\"Y\", \"B\", smooth={\"type\": \"curvedCCW\", \"roundness\": \"0.7\"}, color=\"rgb(27,79,143)\", tickness=10, label=\"E8\") \n",
    "g.add_edge(\"C\", \"Y\", smooth={\"type\": \"curvedCCW\", \"roundness\": \"0.7\"}, color=\"rgb(27,79,143)\", tickness=10) \n",
    "g.add_edge(\"D\", \"E\", smooth={\"type\": \"curvedCCW\", \"roundness\": 0.2}, color=\"rgb(27,79,143)\", tickness=10, label=\"E2\") \n",
    "g.show(\"solution_5.html\")"
   ]
  }
 ],
 "metadata": {
  "kernelspec": {
   "display_name": "venv",
   "language": "python",
   "name": "python3"
  },
  "language_info": {
   "codemirror_mode": {
    "name": "ipython",
    "version": 3
   },
   "file_extension": ".py",
   "mimetype": "text/x-python",
   "name": "python",
   "nbconvert_exporter": "python",
   "pygments_lexer": "ipython3",
   "version": "3.12.4"
  }
 },
 "nbformat": 4,
 "nbformat_minor": 2
}
